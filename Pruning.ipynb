{
 "cells": [
  {
   "attachments": {},
   "cell_type": "markdown",
   "id": "1ffb938b-3d9c-4cc2-b045-ca76be82ef6d",
   "metadata": {},
   "source": [
    "# Import libraries"
   ]
  },
  {
   "cell_type": "code",
   "execution_count": 1,
   "id": "c5d3ed21-4c7e-4000-bfdb-f5310f86df61",
   "metadata": {
    "tags": []
   },
   "outputs": [],
   "source": [
    "import torch\n",
    "from torch import nn\n",
    "import torch.nn.utils.prune as prune\n",
    "import torch.nn.functional as F\n",
    "\n",
    "from torch.quantization import QuantStub, DeQuantStub, convert"
   ]
  },
  {
   "attachments": {},
   "cell_type": "markdown",
   "id": "454fde39-a8d0-4a0e-a5ed-166e752e0afe",
   "metadata": {},
   "source": [
    "# Load model"
   ]
  },
  {
   "cell_type": "code",
   "execution_count": 2,
   "id": "77b2d6d4-d571-4a3d-aea6-c180dbcf660b",
   "metadata": {
    "tags": []
   },
   "outputs": [
    {
     "name": "stderr",
     "output_type": "stream",
     "text": [
      "C:\\Users\\USUARIO\\AppData\\Local\\Programs\\Python\\Python310\\lib\\site-packages\\tqdm\\auto.py:21: TqdmWarning: IProgress not found. Please update jupyter and ipywidgets. See https://ipywidgets.readthedocs.io/en/stable/user_install.html\n",
      "  from .autonotebook import tqdm as notebook_tqdm\n"
     ]
    }
   ],
   "source": [
    "model = torch.load('./models/model_car.pth')"
   ]
  },
  {
   "attachments": {},
   "cell_type": "markdown",
   "id": "6f50f87f-fc49-4087-ae0f-f1379c3cf79d",
   "metadata": {},
   "source": [
    "# Pruning model_car.pth"
   ]
  },
  {
   "cell_type": "code",
   "execution_count": 3,
   "id": "0006f7f4-9085-4724-a94d-938713cd8267",
   "metadata": {
    "scrolled": true,
    "tags": []
   },
   "outputs": [],
   "source": [
    "# Prune the model\n",
    "for module in model.modules():\n",
    "    if isinstance(module, torch.nn.Conv2d) or isinstance(module, torch.nn.Linear):\n",
    "        prune.l1_unstructured(module, name='weight', amount=0.2)  # Prune 20% of the weights\n",
    "        prune.remove(module, 'weight')  # Remove the 'weight' parameter before pruning"
   ]
  },
  {
   "cell_type": "code",
   "execution_count": 4,
   "id": "948bc33f-ad6f-415f-bc6b-30ba2b59319c",
   "metadata": {
    "tags": []
   },
   "outputs": [],
   "source": [
    "# Save the pruned model to a new .pth file\n",
    "torch.save(model, './models/model_car_pruned.pth')"
   ]
  }
 ],
 "metadata": {
  "kernelspec": {
   "display_name": "Python 3 (ipykernel)",
   "language": "python",
   "name": "python3"
  },
  "language_info": {
   "codemirror_mode": {
    "name": "ipython",
    "version": 3
   },
   "file_extension": ".py",
   "mimetype": "text/x-python",
   "name": "python",
   "nbconvert_exporter": "python",
   "pygments_lexer": "ipython3",
   "version": "3.10.10"
  }
 },
 "nbformat": 4,
 "nbformat_minor": 5
}
